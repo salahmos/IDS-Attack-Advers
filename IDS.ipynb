{
 "cells": [
  {
   "cell_type": "code",
   "execution_count": 1,
   "metadata": {},
   "outputs": [],
   "source": [
    "import pandas as pd \n",
    "import tensorflow as tf \n",
    "import numpy as np \n",
    "from sklearn.ensemble import RandomForestClassifier\n",
    "from sklearn.ensemble import AdaBoostClassifier\n",
    "from sklearn.linear_model import LogisticRegression\n",
    "from sklearn.model_selection import train_test_split\n",
    "from sklearn.metrics import classification_report\n",
    "from sklearn.preprocessing import MinMaxScaler\n",
    "from sklearn.utils import shuffle\n",
    "from sklearn.tree import DecisionTreeClassifier\n",
    "from sklearn.neighbors import KNeighborsClassifier\n",
    "import pandas as pd\n",
    "import matplotlib.pyplot as plt\n",
    "tf.random.set_seed(42) \n",
    "from alive_progress import alive_bar\n",
    "import time\n",
    "from keras import backend as K\n",
    "import pickle as pkl\n",
    "from sklearn.preprocessing import MinMaxScaler\n",
    "from sklearn.model_selection import train_test_split\n",
    "from xgboost import XGBClassifier\n",
    "\n",
    "categorical_cross_entropy = tf.keras.losses.CategoricalCrossentropy()"
   ]
  },
  {
   "attachments": {},
   "cell_type": "markdown",
   "metadata": {},
   "source": [
    "# Models of defender "
   ]
  },
  {
   "cell_type": "code",
   "execution_count": 2,
   "metadata": {},
   "outputs": [],
   "source": [
    "defender_dataset = pd.read_csv('./dataset/Bot_IoT/defender_dataset.csv')"
   ]
  },
  {
   "cell_type": "code",
   "execution_count": 3,
   "metadata": {},
   "outputs": [],
   "source": [
    "data_temp_defender_dataset = defender_dataset\n",
    "data_temp_defender_dataset = data_temp_defender_dataset.drop(['attack'],axis=1)\n",
    "defender_dataset=data_temp_defender_dataset"
   ]
  },
  {
   "cell_type": "code",
   "execution_count": 4,
   "metadata": {},
   "outputs": [],
   "source": [
    "X_train_defender, X_test_defender, y_train_defender, y_test_defender = train_test_split(defender_dataset.drop(columns = [\"category\"]), defender_dataset.category, stratify=defender_dataset.category, shuffle=True, test_size=0.25,random_state=42)"
   ]
  },
  {
   "cell_type": "code",
   "execution_count": null,
   "metadata": {},
   "outputs": [],
   "source": [
    "scaler = MinMaxScaler()\n",
    "scaler.fit(X_train_defender.to_numpy()) # to numpy to avoid the warning later when we predict with a numpy instead of dataframe\n",
    "X_train_defender_scaled = scaler.transform(X_train_defender)\n",
    "X_test_defender_scaled = scaler.transform(X_test_defender)  # normalize test set on training set"
   ]
  },
  {
   "attachments": {},
   "cell_type": "markdown",
   "metadata": {},
   "source": [
    "### DNN (Defender)"
   ]
  },
  {
   "cell_type": "code",
   "execution_count": null,
   "metadata": {},
   "outputs": [],
   "source": [
    "# Model 1 initialization and training ---  DNN (Defender)\n",
    "# One-hot encoding and convertion into tensors because TensorFlow DNN\n",
    "y_train_defender_ohe = pd.get_dummies(y_train_defender)\n",
    "y_train_defender_ohe_tf = tf.convert_to_tensor(y_train_defender_ohe, np.float32)\n",
    "\n",
    "y_test_defender_ohe = pd.get_dummies(y_test_defender)\n",
    "y_test_defender_ohe_tf = tf.convert_to_tensor(y_test_defender_ohe, np.float32)\n",
    "\n",
    "output_number = 5\n",
    "eval_metric = 'categorical_accuracy'\n",
    "activ_out = 'softmax'\n",
    "neurons_number = 256\n",
    "lr = 0.001\n",
    "features_number = X_train_defender_scaled.shape[1]\n",
    "\n",
    "model = tf.keras.Sequential([\n",
    "    tf.keras.layers.Dense(neurons_number, input_shape=(features_number,), activation=\"relu\"),\n",
    "    tf.keras.layers.Dense(neurons_number, activation=\"relu\"),\n",
    "    tf.keras.layers.Dense(neurons_number, activation=\"relu\"),\n",
    "    tf.keras.layers.Dense(output_number, activation=activ_out)\n",
    "])\n",
    "model.compile(\n",
    "    optimizer=tf.keras.optimizers.Adam(learning_rate=lr),\n",
    "    loss = categorical_cross_entropy,\n",
    "    metrics=[eval_metric]\n",
    ")\n",
    "\n",
    "model.fit(x=X_train_defender_scaled, y=y_train_defender_ohe_tf, epochs=10, batch_size=100, verbose=1)\n",
    "model.evaluate(x=X_test_defender_scaled, y=y_test_defender_ohe_tf, verbose=1)\n",
    "\n",
    "# Model saving \n",
    "tf.keras.models.save_model(model, './models_defender/dnndefender')\n",
    "# Uncomment all before if you already trained the model\n",
    "# Model Loading\n",
    "# model = tf.keras.models.load_model('./models_defender/dnnattacker, custom_objects={'categorical_cross_entropy': categorical_cross_entropy})\n",
    "\n",
    "# Evaluation\n",
    "y_pred = model.predict(X_test_defender_scaled)\n",
    "y_pred_vect = np.argmax(y_pred,1)\n",
    "print(classification_report(y_true=y_test_defender, y_pred=y_pred_vect))"
   ]
  },
  {
   "attachments": {},
   "cell_type": "markdown",
   "metadata": {},
   "source": [
    "### Random Forest (Defender)"
   ]
  },
  {
   "cell_type": "code",
   "execution_count": null,
   "metadata": {},
   "outputs": [],
   "source": [
    "# Model2 Initialization and training - Random Forest (Defender)\n",
    "model2 = RandomForestClassifier(n_estimators = 200, n_jobs = -1, random_state=0)\n",
    "# No need to scale data as in Neural Network\n",
    "model2.fit(X_train_defender, y_train_defender)\n",
    "\n",
    "# Model saving \n",
    "pkl.dump(model2, open('./models_defender/rfdefender.pkl', 'wb'))\n",
    "\n",
    "# Uncomment all before if you already trained the model\n",
    "# Model Loading\n",
    "# model2 = pkl.load(open('./models_defender/rfattacker.pkl', 'rb')\n",
    "\n",
    "# Evaluation\n",
    "pred = model2.predict(X_test_defender)\n",
    "print( classification_report(y_true=y_test_defender, y_pred=pred))"
   ]
  },
  {
   "attachments": {},
   "cell_type": "markdown",
   "metadata": {},
   "source": [
    "### ADABoost (Defender)"
   ]
  },
  {
   "cell_type": "code",
   "execution_count": null,
   "metadata": {},
   "outputs": [],
   "source": [
    "# Model 3  ADABoost (Defender)\n",
    "model3 = AdaBoostClassifier(n_estimators=400, learning_rate=0.5, random_state=0)\n",
    "model3.fit(X_train_defender, y_train_defender)\n",
    "# Model saving \n",
    "pkl.dump(model3, open('./models_defender/adaboostdefender.pkl', 'wb'))\n",
    "\n",
    "# Uncomment all before if you already trained the model\n",
    "# Model Loading\n",
    "# model3 = pkl.load(open('./models_defender/adaboostattacker.pkl', 'rb'))\n",
    "\n",
    "# Evaluation\n",
    "pred = model3.predict(X_test_defender)\n",
    "print(classification_report(y_true=y_test_defender, y_pred=pred))"
   ]
  },
  {
   "attachments": {},
   "cell_type": "markdown",
   "metadata": {},
   "source": [
    "### KNN (Defender)"
   ]
  },
  {
   "cell_type": "code",
   "execution_count": null,
   "metadata": {},
   "outputs": [],
   "source": [
    "# Model 4 - KNN (Defender)\n",
    "model4 = KNeighborsClassifier(n_neighbors=3)\n",
    "model4.fit(X_train_defender, y_train_defender)\n",
    "# Model saving \n",
    "pkl.dump(model4, open('./models_defender/knndefender.pkl', 'wb'))\n",
    "# Uncomment all before if you already trained the model\n",
    "# Model Loading\n",
    "# model4 = pkl.load(open('./models_defender/knnattacker.pkl', 'rb'))\n",
    "\n",
    "# Evaluation\n",
    "pred = model4.predict(X_test_defender)\n",
    "print(classification_report(y_true=y_test_defender, y_pred=pred))"
   ]
  },
  {
   "attachments": {},
   "cell_type": "markdown",
   "metadata": {},
   "source": [
    "### Decision Tree (Defender)"
   ]
  },
  {
   "cell_type": "code",
   "execution_count": null,
   "metadata": {},
   "outputs": [],
   "source": [
    "# Model 5 -  Decision Tree (Defender)\n",
    "model5 = DecisionTreeClassifier(criterion=\"entropy\", random_state=0)\n",
    "model5.fit(X_train_defender, y_train_defender)\n",
    "# Model saving \n",
    "pkl.dump(model5, open('./models_defender/dtdefender.pkl', 'wb'))\n",
    "# Uncomment all before if you already trained the model\n",
    "# Model Loading\n",
    "# model5 = pkl.load(open('./models_defender/dtattacker.pkl', 'rb'))\n",
    "\n",
    "# Evaluation\n",
    "pred = model5.predict(X_test_defender)\n",
    "print(classification_report(y_true=y_test_defender, y_pred=pred))"
   ]
  },
  {
   "attachments": {},
   "cell_type": "markdown",
   "metadata": {},
   "source": [
    "### xgboost  (Defender)"
   ]
  },
  {
   "cell_type": "code",
   "execution_count": null,
   "metadata": {},
   "outputs": [],
   "source": [
    "# Model 6  -  xgboost  (Defender)\n",
    "model6 = XGBClassifier(n_estimators=200, max_depth=5, learning_rate=0.5, objective='multi:softprob')\n",
    "model6.fit(X_train_defender, y_train_defender)\n",
    "# Model saving \n",
    "pkl.dump(model6, open('./models_defender/xgboostdefender.pkl', 'wb'))\n",
    "# Uncomment all before if you already trained the model\n",
    "# Model Loading\n",
    "# model6 = pkl.load(open('./models_defender/xgboostattacker.pkl', 'rb'))\n",
    "preds = model6.predict(X_test_defender)\n",
    "print( classification_report(y_true=y_test_defender, y_pred=preds))"
   ]
  },
  {
   "attachments": {},
   "cell_type": "markdown",
   "metadata": {},
   "source": [
    "# Models of Attacker"
   ]
  },
  {
   "cell_type": "code",
   "execution_count": 13,
   "metadata": {},
   "outputs": [],
   "source": [
    "attacker_dataset = pd.read_csv('./dataset/Bot_IoT/attacker_dataset.csv')\n",
    "attacker_dataset=attacker_dataset.drop(columns = ['attack'])"
   ]
  },
  {
   "cell_type": "code",
   "execution_count": 14,
   "metadata": {},
   "outputs": [],
   "source": [
    "X_train_attacker, X_test_attacker, y_train_attacker, y_test_attacker = train_test_split(attacker_dataset.drop(columns = [\"category\"]), attacker_dataset.category, stratify=attacker_dataset.category, shuffle=True, test_size=0.25,random_state=42)"
   ]
  },
  {
   "cell_type": "code",
   "execution_count": null,
   "metadata": {},
   "outputs": [],
   "source": [
    "scaler = MinMaxScaler()\n",
    "scaler.fit(X_train_attacker.to_numpy()) # to numpy to avoid the warning later when we predict with a numpy instead of dataframe\n",
    "X_train_attacker_scaled = scaler.transform(X_train_attacker)\n",
    "X_test_attacker_scaled = scaler.transform(X_test_attacker)  # normalize test set on training set"
   ]
  },
  {
   "attachments": {},
   "cell_type": "markdown",
   "metadata": {},
   "source": [
    "### DNN (Attacker)"
   ]
  },
  {
   "cell_type": "code",
   "execution_count": null,
   "metadata": {},
   "outputs": [],
   "source": [
    "# Model 1 initialization and training ---  DNN (Attacker)\n",
    "# One-hot encoding and convertion into tensors because TensorFlow DNN\n",
    "y_train_attacker_ohe = pd.get_dummies(y_train_attacker)\n",
    "y_train_attacker_ohe_tf = tf.convert_to_tensor(y_train_attacker_ohe, np.float32)\n",
    "\n",
    "y_test_attacker_ohe = pd.get_dummies(y_test_attacker)\n",
    "y_test_attacker_ohe_tf = tf.convert_to_tensor(y_test_attacker_ohe, np.float32)\n",
    "\n",
    "output_number = 5\n",
    "eval_metric = 'categorical_accuracy'\n",
    "activ_out = 'softmax'\n",
    "neurons_number = 128\n",
    "lr = 0.001\n",
    "features_number = X_train_attacker_scaled.shape[1]\n",
    "\n",
    "model = tf.keras.Sequential([\n",
    "    tf.keras.layers.Dense(neurons_number, input_shape=(features_number,), activation=\"relu\"),\n",
    "    tf.keras.layers.Dense(neurons_number, activation=\"relu\"),\n",
    "    tf.keras.layers.Dense(neurons_number, activation=\"relu\"),\n",
    "    tf.keras.layers.Dense(neurons_number, activation=\"relu\"),\n",
    "    tf.keras.layers.Dense(output_number, activation=activ_out)\n",
    "])\n",
    "model.compile(\n",
    "    optimizer=tf.keras.optimizers.Adam(learning_rate=lr),\n",
    "    loss = categorical_cross_entropy,\n",
    "    metrics=[eval_metric]\n",
    ")\n",
    "\n",
    "model.fit(x=X_train_attacker_scaled, y=y_train_attacker_ohe_tf, epochs=10, batch_size=100, verbose=1)\n",
    "model.evaluate(x=X_test_attacker_scaled, y=y_test_attacker_ohe_tf, verbose=1)\n",
    "\n",
    "# Model saving \n",
    "tf.keras.models.save_model(model, './models_attacker/dnnattacker')\n",
    "# Uncomment all before if you already trained the model\n",
    "# Model Loading\n",
    "# model = tf.keras.models.load_model('./models_attacker/dnnattacker, custom_objects={'categorical_cross_entropy': categorical_cross_entropy})\n",
    "\n",
    "# Evaluation\n",
    "y_pred = model.predict(X_test_attacker_scaled)\n",
    "y_pred_vect = np.argmax(y_pred,1)\n",
    "print(classification_report(y_true=y_test_attacker, y_pred=y_pred_vect))"
   ]
  },
  {
   "attachments": {},
   "cell_type": "markdown",
   "metadata": {},
   "source": [
    "### Random Forest (Attacker)"
   ]
  },
  {
   "cell_type": "code",
   "execution_count": null,
   "metadata": {},
   "outputs": [],
   "source": [
    "# Model2 Initialization and training - Random Forest (Attacker)\n",
    "model2 = RandomForestClassifier(n_estimators = 300, n_jobs = -1, random_state=0)\n",
    "# No need to scale data as in Neural Network\n",
    "model2.fit(X_train_attacker, y_train_attacker)\n",
    "\n",
    "# Model saving \n",
    "pkl.dump(model2, open('./models_attacker/rfattacker.pkl', 'wb'))\n",
    "# Uncomment all before if you already trained the model\n",
    "# Model Loading\n",
    "# model2 = pkl.load(open('./models_attacker/rfattacker.pkl', 'rb'))\n",
    "\n",
    "# Evaluation\n",
    "pred = model2.predict(X_test_attacker)\n",
    "print(classification_report(y_true=y_test_attacker, y_pred=pred))"
   ]
  },
  {
   "attachments": {},
   "cell_type": "markdown",
   "metadata": {},
   "source": [
    "### ADABoost (Attacker)"
   ]
  },
  {
   "cell_type": "code",
   "execution_count": null,
   "metadata": {},
   "outputs": [],
   "source": [
    "# Model 3 - ADABoost (Attacker)\n",
    "model3 = AdaBoostClassifier(n_estimators=300, learning_rate=0.5, random_state=0)\n",
    "model3.fit(X_train_attacker, y_train_attacker)\n",
    "# Model saving \n",
    "pkl.dump(model3, open('./models_attacker/adaboostattacker.pkl', 'wb'))\n",
    "# Uncomment all before if you already trained the model\n",
    "# Model Loading\n",
    "# model3 = pkl.load(open('./models_attacker/adaboostattacker.pkl', 'rb'))\n",
    "\n",
    "# Evaluation\n",
    "pred = model3.predict(X_test_attacker)\n",
    "print(classification_report(y_true=y_test_attacker, y_pred=pred))"
   ]
  },
  {
   "attachments": {},
   "cell_type": "markdown",
   "metadata": {},
   "source": [
    "### KNN (Attacker)"
   ]
  },
  {
   "cell_type": "code",
   "execution_count": null,
   "metadata": {},
   "outputs": [],
   "source": [
    "# Model 4 - KNN (Attacker)\n",
    "model4 = KNeighborsClassifier(n_neighbors=5)\n",
    "model4.fit(X_train_attacker, y_train_attacker)\n",
    "# Model saving \n",
    "pkl.dump(model4, open('./models_attacker/knnattacker.pkl', 'wb'))\n",
    "# Uncomment all before if you already trained the model\n",
    "# Model Loading\n",
    "# model4 = pkl.load(open('./models_attacker/knnattacker.pkl', 'rb'))\n",
    "\n",
    "# Evaluation\n",
    "pred = model4.predict(X_test_attacker)\n",
    "print(classification_report(y_true=y_test_attacker, y_pred=pred))"
   ]
  },
  {
   "attachments": {},
   "cell_type": "markdown",
   "metadata": {},
   "source": [
    "### Decision Tree (Attacker)"
   ]
  },
  {
   "cell_type": "code",
   "execution_count": null,
   "metadata": {},
   "outputs": [],
   "source": [
    "# Model 5 -  Decision Tree (Attacker)\n",
    "model5 = DecisionTreeClassifier(criterion=\"gini\", random_state=0)\n",
    "model5.fit(X_train_attacker, y_train_attacker)\n",
    "# Model saving \n",
    "pkl.dump(model5, open('./models_attacker/dtattacker.pkl', 'wb'))\n",
    "# Uncomment all before if you already trained the model\n",
    "# Model Loading\n",
    "# model5 = pkl.load(open('./models_attacker/dtattacker.pkl', 'rb'))\n",
    "\n",
    "# Evaluation\n",
    "pred = model5.predict(X_test_attacker)\n",
    "print(classification_report(y_true=y_test_attacker, y_pred=pred))"
   ]
  },
  {
   "attachments": {},
   "cell_type": "markdown",
   "metadata": {},
   "source": [
    "### xgboost  (Attacker)"
   ]
  },
  {
   "cell_type": "code",
   "execution_count": null,
   "metadata": {},
   "outputs": [],
   "source": [
    "# Model 6  -  xgboost  (Attacker)\n",
    "model6 = XGBClassifier(n_estimators=300, max_depth=5, learning_rate=0.5, objective='multi:softprob')\n",
    "model6.fit(X_train_attacker, y_train_attacker)\n",
    "# Model saving \n",
    "pkl.dump(model6, open('./models_attacker/xgboostattacker.pkl', 'wb'))\n",
    "# Uncomment all before if you already trained the model\n",
    "# Model Loading\n",
    "# model6 = pkl.load(open('./models_attacker/xgboostattacker.pkl', 'rb'))\n",
    "\n",
    "# Evaluation\n",
    "preds = model6.predict(X_test_attacker)\n",
    "print(classification_report(y_true=y_test_attacker, y_pred=preds))"
   ]
  }
 ],
 "metadata": {
  "kernelspec": {
   "display_name": "base",
   "language": "python",
   "name": "python3"
  },
  "language_info": {
   "codemirror_mode": {
    "name": "ipython",
    "version": 3
   },
   "file_extension": ".py",
   "mimetype": "text/x-python",
   "name": "python",
   "nbconvert_exporter": "python",
   "pygments_lexer": "ipython3",
   "version": "3.8.15"
  },
  "orig_nbformat": 4,
  "vscode": {
   "interpreter": {
    "hash": "ad2bdc8ecc057115af97d19610ffacc2b4e99fae6737bb82f5d7fb13d2f2c186"
   }
  }
 },
 "nbformat": 4,
 "nbformat_minor": 2
}
